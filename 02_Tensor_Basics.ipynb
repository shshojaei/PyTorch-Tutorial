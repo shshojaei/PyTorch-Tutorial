{
  "nbformat": 4,
  "nbformat_minor": 0,
  "metadata": {
    "colab": {
      "name": "02-Tensor Basics.ipynb",
      "provenance": [],
      "collapsed_sections": [],
      "toc_visible": true,
      "authorship_tag": "ABX9TyPz46ZoDVAmK0rNLin2gCec"
    },
    "kernelspec": {
      "name": "python3",
      "display_name": "Python 3"
    },
    "language_info": {
      "name": "python"
    },
    "accelerator": "GPU",
    "gpuClass": "standard"
  },
  "cells": [
    {
      "cell_type": "code",
      "execution_count": null,
      "metadata": {
        "id": "Q3HJcf2VcHCQ"
      },
      "outputs": [],
      "source": [
        "import torch"
      ]
    },
    {
      "cell_type": "markdown",
      "source": [
        "in pytorch everything is based on tensor operations.\n",
        "\n",
        "a tensor can have different dimensions."
      ],
      "metadata": {
        "id": "i9hP8UxZcdss"
      }
    },
    {
      "cell_type": "markdown",
      "source": [
        "## **create an empty tensors**"
      ],
      "metadata": {
        "id": "_6G7VjXsdr-M"
      }
    },
    {
      "cell_type": "code",
      "source": [
        "x = torch.empty(1) #size=1 like a scaler value that not initialized\n",
        "print(x)"
      ],
      "metadata": {
        "colab": {
          "base_uri": "https://localhost:8080/"
        },
        "id": "9n22L_3DcPC5",
        "outputId": "e3dc47f9-3721-4d18-e655-7c4431750d7a"
      },
      "execution_count": null,
      "outputs": [
        {
          "output_type": "stream",
          "name": "stdout",
          "text": [
            "tensor([2.2473e-35])\n"
          ]
        }
      ]
    },
    {
      "cell_type": "code",
      "source": [
        "x = torch.empty(3)\n",
        "print(x)"
      ],
      "metadata": {
        "colab": {
          "base_uri": "https://localhost:8080/"
        },
        "id": "78GMV1jDdFPg",
        "outputId": "9be1e9f9-72fb-43f9-bdc4-6130b72d7f4c"
      },
      "execution_count": null,
      "outputs": [
        {
          "output_type": "stream",
          "name": "stdout",
          "text": [
            "tensor([2.2474e-35, 0.0000e+00, 1.5975e-43])\n"
          ]
        }
      ]
    },
    {
      "cell_type": "code",
      "source": [
        "x = torch.empty(2,3)\n",
        "print(x)"
      ],
      "metadata": {
        "colab": {
          "base_uri": "https://localhost:8080/"
        },
        "id": "xYyD_nqidXLO",
        "outputId": "1f419027-6fe1-4086-e9ed-5e3ab0da73aa"
      },
      "execution_count": null,
      "outputs": [
        {
          "output_type": "stream",
          "name": "stdout",
          "text": [
            "tensor([[2.2474e-35, 0.0000e+00, 1.4714e-43],\n",
            "        [1.6255e-43, 1.4714e-43, 1.3593e-43]])\n"
          ]
        }
      ]
    },
    {
      "cell_type": "markdown",
      "source": [
        "## **create a tensor with random values**"
      ],
      "metadata": {
        "id": "txK-zaoheQ6V"
      }
    },
    {
      "cell_type": "code",
      "source": [
        "x = torch.rand(2,2)\n",
        "print(x)"
      ],
      "metadata": {
        "colab": {
          "base_uri": "https://localhost:8080/"
        },
        "id": "g7juWEdIdjiv",
        "outputId": "7d635b24-077a-48b6-a254-ca239b213ebb"
      },
      "execution_count": null,
      "outputs": [
        {
          "output_type": "stream",
          "name": "stdout",
          "text": [
            "tensor([[0.9614, 0.7878],\n",
            "        [0.7754, 0.1362]])\n"
          ]
        }
      ]
    },
    {
      "cell_type": "markdown",
      "source": [
        "## **create a tensor with all zero values**"
      ],
      "metadata": {
        "id": "hLGN-doPeyR3"
      }
    },
    {
      "cell_type": "code",
      "source": [
        "x = torch.zeros(2,2)\n",
        "print(x)"
      ],
      "metadata": {
        "colab": {
          "base_uri": "https://localhost:8080/"
        },
        "id": "dC0oo9KlepFM",
        "outputId": "cf8418c9-9c67-4117-88e8-aec82ffd0184"
      },
      "execution_count": null,
      "outputs": [
        {
          "output_type": "stream",
          "name": "stdout",
          "text": [
            "tensor([[0., 0.],\n",
            "        [0., 0.]])\n"
          ]
        }
      ]
    },
    {
      "cell_type": "markdown",
      "source": [
        "## **create a tensor with all one values**"
      ],
      "metadata": {
        "id": "QAI-O8FDfBxV"
      }
    },
    {
      "cell_type": "code",
      "source": [
        "x = torch.ones(2,2)\n",
        "print(x)"
      ],
      "metadata": {
        "colab": {
          "base_uri": "https://localhost:8080/"
        },
        "id": "9YJdAZxDe2bX",
        "outputId": "cbd49c0a-afaa-412a-b850-6e4af6bf9232"
      },
      "execution_count": null,
      "outputs": [
        {
          "output_type": "stream",
          "name": "stdout",
          "text": [
            "tensor([[1., 1.],\n",
            "        [1., 1.]])\n"
          ]
        }
      ]
    },
    {
      "cell_type": "markdown",
      "source": [
        "## **create a tensor with specific data type**"
      ],
      "metadata": {
        "id": "BT3aWneqfPnE"
      }
    },
    {
      "cell_type": "code",
      "source": [
        "x = torch.ones(2,2)\n",
        "print(x.dtype) #print the default dtype"
      ],
      "metadata": {
        "colab": {
          "base_uri": "https://localhost:8080/"
        },
        "id": "D1YMH0jdfIRj",
        "outputId": "5331ebef-9809-41a7-b8c4-6037f68fcda4"
      },
      "execution_count": null,
      "outputs": [
        {
          "output_type": "stream",
          "name": "stdout",
          "text": [
            "torch.float32\n"
          ]
        }
      ]
    },
    {
      "cell_type": "code",
      "source": [
        "x = torch.ones(2,2, dtype=torch.int)\n",
        "print(x.dtype)"
      ],
      "metadata": {
        "colab": {
          "base_uri": "https://localhost:8080/"
        },
        "id": "I0TUWPqcfhL9",
        "outputId": "060e4950-a989-4722-fa86-c0b50470f7fb"
      },
      "execution_count": null,
      "outputs": [
        {
          "output_type": "stream",
          "name": "stdout",
          "text": [
            "torch.int32\n"
          ]
        }
      ]
    },
    {
      "cell_type": "markdown",
      "source": [
        "## **Size of a tensor**"
      ],
      "metadata": {
        "id": "GJTE_ro_gIiA"
      }
    },
    {
      "cell_type": "code",
      "source": [
        "x = torch.ones(2,2, dtype=torch.int)\n",
        "print(x.size())"
      ],
      "metadata": {
        "colab": {
          "base_uri": "https://localhost:8080/"
        },
        "id": "MSMkgP0vf8yF",
        "outputId": "599413ed-a45f-457b-d0f5-19210567fa2e"
      },
      "execution_count": null,
      "outputs": [
        {
          "output_type": "stream",
          "name": "stdout",
          "text": [
            "torch.Size([2, 2])\n"
          ]
        }
      ]
    },
    {
      "cell_type": "markdown",
      "source": [
        "## **Create a tensor**"
      ],
      "metadata": {
        "id": "uXGr0cKtgczc"
      }
    },
    {
      "cell_type": "code",
      "source": [
        "x = torch.tensor([0.1 , 2.5])\n",
        "print(x)"
      ],
      "metadata": {
        "colab": {
          "base_uri": "https://localhost:8080/"
        },
        "id": "-NNrOsQdgRQM",
        "outputId": "40d6e0ca-81b5-4b8c-cca2-4be2910f99e0"
      },
      "execution_count": null,
      "outputs": [
        {
          "output_type": "stream",
          "name": "stdout",
          "text": [
            "tensor([0.1000, 2.5000])\n"
          ]
        }
      ]
    },
    {
      "cell_type": "markdown",
      "source": [
        "## **Basic Operations**"
      ],
      "metadata": {
        "id": "fqdKKcs5gyGC"
      }
    },
    {
      "cell_type": "code",
      "source": [
        "x = torch.rand(2,2)\n",
        "y = torch.rand(2,2)\n",
        "\n",
        "print(x)\n",
        "print(y)"
      ],
      "metadata": {
        "colab": {
          "base_uri": "https://localhost:8080/"
        },
        "id": "G2rCQF0ogqrk",
        "outputId": "523ca4c0-7c32-4ecc-e7bb-7c88cac0129f"
      },
      "execution_count": null,
      "outputs": [
        {
          "output_type": "stream",
          "name": "stdout",
          "text": [
            "tensor([[0.4773, 0.4380],\n",
            "        [0.5438, 0.9163]])\n",
            "tensor([[0.2174, 0.1041],\n",
            "        [0.7954, 0.5111]])\n"
          ]
        }
      ]
    },
    {
      "cell_type": "markdown",
      "source": [
        "> addition\n",
        "\n"
      ],
      "metadata": {
        "id": "L4nbfxKwhKz-"
      }
    },
    {
      "cell_type": "code",
      "source": [
        "z = x + y\n",
        "print(z)"
      ],
      "metadata": {
        "colab": {
          "base_uri": "https://localhost:8080/"
        },
        "id": "eut-zTUUhEnV",
        "outputId": "952900d2-5372-4031-8885-36829b54458c"
      },
      "execution_count": null,
      "outputs": [
        {
          "output_type": "stream",
          "name": "stdout",
          "text": [
            "tensor([[0.6947, 0.5421],\n",
            "        [1.3392, 1.4274]])\n"
          ]
        }
      ]
    },
    {
      "cell_type": "code",
      "source": [
        "# it's do the same thing:\n",
        "z = torch.add(x,y)\n",
        "print(z)"
      ],
      "metadata": {
        "colab": {
          "base_uri": "https://localhost:8080/"
        },
        "id": "Cq4JLLGGhY0o",
        "outputId": "8432c416-48f6-495d-e682-76f7396e28f6"
      },
      "execution_count": null,
      "outputs": [
        {
          "output_type": "stream",
          "name": "stdout",
          "text": [
            "tensor([[0.6947, 0.5421],\n",
            "        [1.3392, 1.4274]])\n"
          ]
        }
      ]
    },
    {
      "cell_type": "code",
      "source": [
        "# in-place addition\n",
        "y.add_(x)\n",
        "print(y)"
      ],
      "metadata": {
        "colab": {
          "base_uri": "https://localhost:8080/"
        },
        "id": "T8-kdOxZhpV5",
        "outputId": "0c0a90e3-b31a-4a7e-e35e-429a7337f020"
      },
      "execution_count": null,
      "outputs": [
        {
          "output_type": "stream",
          "name": "stdout",
          "text": [
            "tensor([[0.6947, 0.5421],\n",
            "        [1.3392, 1.4274]])\n"
          ]
        }
      ]
    },
    {
      "cell_type": "markdown",
      "source": [
        "> subtraction\n",
        "\n"
      ],
      "metadata": {
        "id": "8XJ_JCXPiIf_"
      }
    },
    {
      "cell_type": "code",
      "source": [
        "z = x - y\n",
        "z = torch.sub(x,y)\n",
        "print(z)"
      ],
      "metadata": {
        "colab": {
          "base_uri": "https://localhost:8080/"
        },
        "id": "Hb2i_wbHh4Zz",
        "outputId": "5cdf0a8a-dc37-4577-da9f-c713a6890e84"
      },
      "execution_count": null,
      "outputs": [
        {
          "output_type": "stream",
          "name": "stdout",
          "text": [
            "tensor([[-0.2174, -0.1041],\n",
            "        [-0.7954, -0.5111]])\n"
          ]
        }
      ]
    },
    {
      "cell_type": "markdown",
      "source": [
        "> multiplication\n",
        "\n"
      ],
      "metadata": {
        "id": "-luYP0qjiiWq"
      }
    },
    {
      "cell_type": "code",
      "source": [
        "z = x * y\n",
        "z = torch.mul(x,y)\n",
        "print(z)"
      ],
      "metadata": {
        "colab": {
          "base_uri": "https://localhost:8080/"
        },
        "id": "5vwQ6a8LihXm",
        "outputId": "7b65e139-7012-4f28-d20b-ebbe551b55e6"
      },
      "execution_count": null,
      "outputs": [
        {
          "output_type": "stream",
          "name": "stdout",
          "text": [
            "tensor([[0.3315, 0.2374],\n",
            "        [0.7283, 1.3079]])\n"
          ]
        }
      ]
    },
    {
      "cell_type": "markdown",
      "source": [
        "> division\n",
        "\n"
      ],
      "metadata": {
        "id": "tylT5cINi3cO"
      }
    },
    {
      "cell_type": "code",
      "source": [
        "z = x / y\n",
        "z = torch.div(x,y)\n",
        "print(z)"
      ],
      "metadata": {
        "colab": {
          "base_uri": "https://localhost:8080/"
        },
        "id": "M69Y196giwb8",
        "outputId": "0e5e7a2a-d6ca-4290-ae5c-7a18b09676ec"
      },
      "execution_count": null,
      "outputs": [
        {
          "output_type": "stream",
          "name": "stdout",
          "text": [
            "tensor([[0.6870, 0.8079],\n",
            "        [0.4061, 0.6419]])\n"
          ]
        }
      ]
    },
    {
      "cell_type": "markdown",
      "source": [
        "## **Slicing**"
      ],
      "metadata": {
        "id": "asaaLmoIjQZR"
      }
    },
    {
      "cell_type": "code",
      "source": [
        "x = torch.rand(5,3)\n",
        "print(x)"
      ],
      "metadata": {
        "colab": {
          "base_uri": "https://localhost:8080/"
        },
        "id": "gIOYbvhDjKev",
        "outputId": "c58c214a-5a40-48b0-c5bf-e55ed93a67e3"
      },
      "execution_count": null,
      "outputs": [
        {
          "output_type": "stream",
          "name": "stdout",
          "text": [
            "tensor([[0.8711, 0.4041, 0.0842],\n",
            "        [0.5052, 0.4602, 0.7260],\n",
            "        [0.6575, 0.3432, 0.5049],\n",
            "        [0.0791, 0.6913, 0.3414],\n",
            "        [0.0256, 0.4313, 0.8292]])\n"
          ]
        }
      ]
    },
    {
      "cell_type": "code",
      "source": [
        "print(x[:,0]) #all rows + only first columns"
      ],
      "metadata": {
        "colab": {
          "base_uri": "https://localhost:8080/"
        },
        "id": "Nxr8YqygjlBI",
        "outputId": "3c7204d9-e5c1-44be-c7ae-7179aa7fb8b3"
      },
      "execution_count": null,
      "outputs": [
        {
          "output_type": "stream",
          "name": "stdout",
          "text": [
            "tensor([0.8711, 0.5052, 0.6575, 0.0791, 0.0256])\n"
          ]
        }
      ]
    },
    {
      "cell_type": "code",
      "source": [
        "print(x[1,:]) # rows number 1 + all columns"
      ],
      "metadata": {
        "colab": {
          "base_uri": "https://localhost:8080/"
        },
        "id": "IQwOMCVVkMRk",
        "outputId": "2580f287-12fd-49ec-c034-a3592141ff00"
      },
      "execution_count": null,
      "outputs": [
        {
          "output_type": "stream",
          "name": "stdout",
          "text": [
            "tensor([0.5052, 0.4602, 0.7260])\n"
          ]
        }
      ]
    },
    {
      "cell_type": "code",
      "source": [
        "print(x[1,1]) #get one element"
      ],
      "metadata": {
        "colab": {
          "base_uri": "https://localhost:8080/"
        },
        "id": "4rebhEcokVs4",
        "outputId": "afb40c34-0c28-4526-ac85-439ee7433e04"
      },
      "execution_count": null,
      "outputs": [
        {
          "output_type": "stream",
          "name": "stdout",
          "text": [
            "tensor(0.4602)\n"
          ]
        }
      ]
    },
    {
      "cell_type": "code",
      "source": [
        "#if you have only one element in your tensor you can get that by:\n",
        "print(x[1,1].item()) #this get you the actual value"
      ],
      "metadata": {
        "colab": {
          "base_uri": "https://localhost:8080/"
        },
        "id": "GZK0zSFDkgJL",
        "outputId": "1fe4f8db-b4fd-4dce-fb64-1fac899661b5"
      },
      "execution_count": null,
      "outputs": [
        {
          "output_type": "stream",
          "name": "stdout",
          "text": [
            "0.46021944284439087\n"
          ]
        }
      ]
    },
    {
      "cell_type": "markdown",
      "source": [
        "## **Reshape the tensor**"
      ],
      "metadata": {
        "id": "uSLdZ3y5k90q"
      }
    },
    {
      "cell_type": "code",
      "source": [
        "x = torch.rand(4,4)\n",
        "print(x)"
      ],
      "metadata": {
        "colab": {
          "base_uri": "https://localhost:8080/"
        },
        "id": "oMgPmsWpk0xR",
        "outputId": "b5b04aa1-88df-411c-8e6c-13ac4049efd3"
      },
      "execution_count": null,
      "outputs": [
        {
          "output_type": "stream",
          "name": "stdout",
          "text": [
            "tensor([[0.5362, 0.4643, 0.4067, 0.3270],\n",
            "        [0.3451, 0.7747, 0.9230, 0.9235],\n",
            "        [0.3520, 0.8123, 0.9601, 0.0060],\n",
            "        [0.2461, 0.4652, 0.0471, 0.8805]])\n"
          ]
        }
      ]
    },
    {
      "cell_type": "code",
      "source": [
        "y = x.view(16)\n",
        "print(y)"
      ],
      "metadata": {
        "colab": {
          "base_uri": "https://localhost:8080/"
        },
        "id": "9IZGH4VklIsg",
        "outputId": "198992c4-6211-47a5-c84a-9de902209d56"
      },
      "execution_count": null,
      "outputs": [
        {
          "output_type": "stream",
          "name": "stdout",
          "text": [
            "tensor([0.5362, 0.4643, 0.4067, 0.3270, 0.3451, 0.7747, 0.9230, 0.9235, 0.3520,\n",
            "        0.8123, 0.9601, 0.0060, 0.2461, 0.4652, 0.0471, 0.8805])\n"
          ]
        }
      ]
    },
    {
      "cell_type": "code",
      "source": [
        "#if you want that pytorch determined the size, put the -1:\n",
        "y = x.view(-1,8)\n",
        "print(y)"
      ],
      "metadata": {
        "colab": {
          "base_uri": "https://localhost:8080/"
        },
        "id": "JKDhY3VtlSdg",
        "outputId": "51338c7a-db7e-4e67-b68f-82f21c6e08c2"
      },
      "execution_count": null,
      "outputs": [
        {
          "output_type": "stream",
          "name": "stdout",
          "text": [
            "tensor([[0.5362, 0.4643, 0.4067, 0.3270, 0.3451, 0.7747, 0.9230, 0.9235],\n",
            "        [0.3520, 0.8123, 0.9601, 0.0060, 0.2461, 0.4652, 0.0471, 0.8805]])\n"
          ]
        }
      ]
    },
    {
      "cell_type": "code",
      "source": [
        "print(y.size())"
      ],
      "metadata": {
        "colab": {
          "base_uri": "https://localhost:8080/"
        },
        "id": "5Jy0ankcly1g",
        "outputId": "db0e5a80-6800-4c30-a670-48f191920228"
      },
      "execution_count": null,
      "outputs": [
        {
          "output_type": "stream",
          "name": "stdout",
          "text": [
            "torch.Size([2, 8])\n"
          ]
        }
      ]
    },
    {
      "cell_type": "markdown",
      "source": [
        "## **Convert Numpy to the torch Tensor**"
      ],
      "metadata": {
        "id": "O1ZO0h51mAqv"
      }
    },
    {
      "cell_type": "code",
      "source": [
        "import numpy as np"
      ],
      "metadata": {
        "id": "yHhdM2Z7l1g8"
      },
      "execution_count": null,
      "outputs": []
    },
    {
      "cell_type": "code",
      "source": [
        "a = torch.ones(5)\n",
        "print(a)"
      ],
      "metadata": {
        "colab": {
          "base_uri": "https://localhost:8080/"
        },
        "id": "b4rFTqrNmTFX",
        "outputId": "b86c5c9d-1c9c-4caa-a359-f2d78149ff67"
      },
      "execution_count": null,
      "outputs": [
        {
          "output_type": "stream",
          "name": "stdout",
          "text": [
            "tensor([1., 1., 1., 1., 1.])\n"
          ]
        }
      ]
    },
    {
      "cell_type": "code",
      "source": [
        "b = a.numpy()\n",
        "print(b)"
      ],
      "metadata": {
        "colab": {
          "base_uri": "https://localhost:8080/"
        },
        "id": "S4Lrtf6HmYv-",
        "outputId": "dcb5d8f3-83b1-4d13-fc9c-9ac6e31c9d2e"
      },
      "execution_count": null,
      "outputs": [
        {
          "output_type": "stream",
          "name": "stdout",
          "text": [
            "[1. 1. 1. 1. 1.]\n"
          ]
        }
      ]
    },
    {
      "cell_type": "code",
      "source": [
        "print(type(b))"
      ],
      "metadata": {
        "colab": {
          "base_uri": "https://localhost:8080/"
        },
        "id": "D20pMkI4md7g",
        "outputId": "c6b3a3d9-1ece-44c3-cfbb-cbc96aa82a09"
      },
      "execution_count": null,
      "outputs": [
        {
          "output_type": "stream",
          "name": "stdout",
          "text": [
            "<class 'numpy.ndarray'>\n"
          ]
        }
      ]
    },
    {
      "cell_type": "markdown",
      "source": [
        "if you use cpu instead of gpu, a and b point to the same memory location.\n",
        "\n",
        "so for confidence you can do this in your code:"
      ],
      "metadata": {
        "id": "SS1vS_nam6Xq"
      }
    },
    {
      "cell_type": "code",
      "source": [
        "if torch.cuda.is_available():\n",
        "  device = torch.device(\"cuda\")\n",
        "  x = torch.ones(5 , device=device)\n",
        "  #or\n",
        "  y = torch.ones(5)\n",
        "  y = y.to(device)\n",
        "  z = x + y #so this performs on gpu and must be faster\n",
        "  # but z.numpy() get error because numpy can only handle cpu tensors \n",
        "  #so you cann't convert gpu tensor back to numpy\n",
        "  #for handle this you can:\n",
        "  z = z.to(\"cpu\")"
      ],
      "metadata": {
        "id": "UGXbOK54orVS"
      },
      "execution_count": null,
      "outputs": []
    },
    {
      "cell_type": "markdown",
      "source": [
        "## **Convert torch Tensor to Numpy**"
      ],
      "metadata": {
        "id": "hStiQNbZnaFp"
      }
    },
    {
      "cell_type": "code",
      "source": [
        "a = np.ones(5)\n",
        "print(a)"
      ],
      "metadata": {
        "colab": {
          "base_uri": "https://localhost:8080/"
        },
        "id": "K8X0y1elmlmy",
        "outputId": "b79f00ba-bd2f-48f5-ec48-27d5b693a44d"
      },
      "execution_count": null,
      "outputs": [
        {
          "output_type": "stream",
          "name": "stdout",
          "text": [
            "[1. 1. 1. 1. 1.]\n"
          ]
        }
      ]
    },
    {
      "cell_type": "code",
      "source": [
        "b = torch.from_numpy(a)\n",
        "print(b)"
      ],
      "metadata": {
        "colab": {
          "base_uri": "https://localhost:8080/"
        },
        "id": "wR00sTe3nn7p",
        "outputId": "23491298-07c9-4399-8669-be160301129c"
      },
      "execution_count": null,
      "outputs": [
        {
          "output_type": "stream",
          "name": "stdout",
          "text": [
            "tensor([1., 1., 1., 1., 1.], dtype=torch.float64)\n"
          ]
        }
      ]
    },
    {
      "cell_type": "markdown",
      "source": [
        "## **optimize the value**"
      ],
      "metadata": {
        "id": "JFan5S6Yqhcn"
      }
    },
    {
      "cell_type": "code",
      "source": [
        "x = torch.ones(5, requires_grad=True)\n",
        "print(x)"
      ],
      "metadata": {
        "colab": {
          "base_uri": "https://localhost:8080/"
        },
        "id": "-IalUGlmnvPA",
        "outputId": "dfc1841c-3ae4-4695-e3d6-7768747a6809"
      },
      "execution_count": null,
      "outputs": [
        {
          "output_type": "stream",
          "name": "stdout",
          "text": [
            "tensor([1., 1., 1., 1., 1.], requires_grad=True)\n"
          ]
        }
      ]
    }
  ]
}