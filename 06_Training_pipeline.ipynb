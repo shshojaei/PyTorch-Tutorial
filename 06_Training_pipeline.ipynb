{
  "nbformat": 4,
  "nbformat_minor": 0,
  "metadata": {
    "colab": {
      "provenance": [],
      "collapsed_sections": [],
      "toc_visible": true,
      "authorship_tag": "ABX9TyM5TIv+IcJULdkgHqFtzJYF"
    },
    "kernelspec": {
      "name": "python3",
      "display_name": "Python 3"
    },
    "language_info": {
      "name": "python"
    }
  },
  "cells": [
    {
      "cell_type": "markdown",
      "source": [
        "## **Training pipeline:**\n",
        "\n",
        "\n",
        "*   Model\n",
        "*   Loss\n",
        "*   Optimizer"
      ],
      "metadata": {
        "id": "cXEOR6gwXFLk"
      }
    },
    {
      "cell_type": "code",
      "source": [
        "# 1) Design Model(input size, output size, forward pass)\n",
        "# 2) construct loss and optimizer\n",
        "# 3) Training loop\n",
        "#    - forward pass: compute prediction\n",
        "#    - Backward pass: gradients\n",
        "#    - update weights"
      ],
      "metadata": {
        "id": "n4LsLLbAXOfN"
      },
      "execution_count": null,
      "outputs": []
    },
    {
      "cell_type": "markdown",
      "source": [
        "change Manually loss and optimizer to pytorch loss and optimizer:"
      ],
      "metadata": {
        "id": "oxJKsFyvZgYg"
      }
    },
    {
      "cell_type": "code",
      "source": [
        "import torch\n",
        "import torch.nn as nn #Neural Network"
      ],
      "metadata": {
        "id": "nD6VIlcJYjX9"
      },
      "execution_count": null,
      "outputs": []
    },
    {
      "cell_type": "code",
      "source": [
        "# f = w * x\n",
        "# f = 2 * x\n",
        "\n",
        "X = torch.tensor([[1], [2], [3], [4]], dtype=torch.float32)\n",
        "Y = torch.tensor([[2], [4], [6], [8]], dtype=torch.float32)\n",
        "\n",
        "n_samples, n_features = X.shape\n",
        "\n",
        "print(n_samples, n_features)\n",
        "#w = torch.tensor(0.0, dtype=torch.float32, requires_grad=True)\n",
        "\n",
        "# Calculate our model prediction\n",
        "#def forward(x):\n",
        "#  return w * x\n",
        "input_size = n_features\n",
        "output_size = n_features\n",
        "\n",
        "#Delete this:\n",
        "# Loss = MSE\n",
        "#def loss(y,y_predicted):\n",
        "#  return ((y_predicted - y)**2).mean()\n",
        "\n",
        "# gradients"
      ],
      "metadata": {
        "colab": {
          "base_uri": "https://localhost:8080/"
        },
        "id": "sfD7IP15ZUjF",
        "outputId": "9b73c6ef-1908-4bc8-906b-28ad59ba8ad6"
      },
      "execution_count": null,
      "outputs": [
        {
          "output_type": "stream",
          "name": "stdout",
          "text": [
            "4 1\n"
          ]
        }
      ]
    },
    {
      "cell_type": "code",
      "source": [
        "#model = nn.Linear(input_size, output_size) #or custom linear regression"
      ],
      "metadata": {
        "id": "3_wIApDIgpdT"
      },
      "execution_count": null,
      "outputs": []
    },
    {
      "cell_type": "markdown",
      "source": [
        "## **Custom Linear Regression**"
      ],
      "metadata": {
        "id": "BxqIJLPZe3mX"
      }
    },
    {
      "cell_type": "code",
      "source": [
        "class LinearRegression(nn.Module):\n",
        "\n",
        "  def __init__(self, input_dim, output_dim):\n",
        "    #constructor\n",
        "    super(LinearRegression, self).__init__()\n",
        "\n",
        "    #define layers\n",
        "    self.lin = nn.Linear(input_dim, output_dim)\n",
        "\n",
        "  def forward(self, x):\n",
        "    return self.lin(x)\n",
        "\n",
        "model = LinearRegression(input_size, output_size)"
      ],
      "metadata": {
        "id": "8C10XNr8e2RQ"
      },
      "execution_count": null,
      "outputs": []
    },
    {
      "cell_type": "code",
      "source": [
        "#print(f\"Prediction before trainig: f(5) = {forward(5):.3f}\\n\")\n",
        "X_test = torch.tensor([5], dtype=torch.float32)\n",
        "print(f\"Prediction before trainig: f(5) = {model(X_test).item():.3f}\\n\")\n",
        "\n",
        "#training\n",
        "learning_rate = 0.01\n",
        "n_iter = 100\n",
        "\n",
        "loss = nn.MSELoss()\n",
        "optimizer = torch.optim.SGD(model.parameters(), lr=learning_rate)\n",
        "\n",
        "for epoch in range(n_iter):\n",
        "  #prediction (forward pass)\n",
        "  y_pred = model(X)\n",
        "\n",
        "  #loss\n",
        "  l = loss(Y,y_pred)\n",
        "\n",
        "  #gradients (backward pass)\n",
        "  l.backward() #calculate dLoss/dw\n",
        "\n",
        "  #update weights\n",
        "  #with torch.no_grad():\n",
        "  #  w -= learning_rate * w.grad #because this isn't in torch graph\n",
        "  optimizer.step()\n",
        "\n",
        "  # zero gradients\n",
        "  #w.grad.zero_()\n",
        "  optimizer.zero_grad()\n",
        "\n",
        "  if epoch%10 ==0 :\n",
        "    [w,b] = model.parameters()\n",
        "    print(f'epoch {epoch+1}: w = {w[0][0].item():.3f}, loss = {l:.8f}')\n",
        "\n",
        "\n",
        "print(f\"Prediction after trainig: f(5) = {model(X_test).item():.3f}\\n\")"
      ],
      "metadata": {
        "colab": {
          "base_uri": "https://localhost:8080/"
        },
        "id": "3I32l8tyZbyb",
        "outputId": "683baf8e-9824-4e14-ed5b-d9ba005295ed"
      },
      "execution_count": null,
      "outputs": [
        {
          "output_type": "stream",
          "name": "stdout",
          "text": [
            "Prediction before trainig: f(5) = -1.557\n",
            "\n",
            "epoch 1: w = -0.049, loss = 38.34789658\n",
            "epoch 11: w = 1.376, loss = 1.16757464\n",
            "epoch 21: w = 1.614, loss = 0.19542032\n",
            "epoch 31: w = 1.661, loss = 0.16065229\n",
            "epoch 41: w = 1.677, loss = 0.15069613\n",
            "epoch 51: w = 1.687, loss = 0.14190921\n",
            "epoch 61: w = 1.697, loss = 0.13364901\n",
            "epoch 71: w = 1.706, loss = 0.12586994\n",
            "epoch 81: w = 1.714, loss = 0.11854362\n",
            "epoch 91: w = 1.723, loss = 0.11164387\n",
            "Prediction after trainig: f(5) = 9.444\n",
            "\n"
          ]
        }
      ]
    }
  ]
}